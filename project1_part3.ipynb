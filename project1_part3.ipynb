{
  "nbformat": 4,
  "nbformat_minor": 0,
  "metadata": {
    "colab": {
      "name": "project1_part3.ipynb",
      "provenance": [],
      "collapsed_sections": [],
      "include_colab_link": true
    },
    "kernelspec": {
      "name": "python3",
      "display_name": "Python 3"
    },
    "accelerator": "GPU"
  },
  "cells": [
    {
      "cell_type": "markdown",
      "metadata": {
        "id": "view-in-github",
        "colab_type": "text"
      },
      "source": [
        "<a href=\"https://colab.research.google.com/github/pierresegonne/ELEC5307_Project1/blob/master/project1_part3.ipynb\" target=\"_parent\"><img src=\"https://colab.research.google.com/assets/colab-badge.svg\" alt=\"Open In Colab\"/></a>"
      ]
    },
    {
      "cell_type": "markdown",
      "metadata": {
        "id": "3t0iPF873e03",
        "colab_type": "text"
      },
      "source": [
        "# UTILS"
      ]
    },
    {
      "cell_type": "code",
      "metadata": {
        "id": "sl7OQIbQtlPh",
        "colab_type": "code",
        "outputId": "01a4d8f7-70b5-4144-d64a-acbcb62356df",
        "colab": {
          "base_uri": "https://localhost:8080/",
          "height": 258
        }
      },
      "source": [
        "# memory footprint support libraries/code\n",
        "!ln -sf /opt/bin/nvidia-smi /usr/bin/nvidia-smi\n",
        "!pip install gputil\n",
        "!pip install psutil\n",
        "!pip install humanize\n",
        "import psutil\n",
        "import humanize\n",
        "import os\n",
        "import GPUtil as GPU\n",
        "GPUs = GPU.getGPUs()\n",
        "# XXX: only one GPU on Colab and isn’t guaranteed\n",
        "gpu = GPUs[0]\n",
        "def printm():\n",
        " process = psutil.Process(os.getpid())\n",
        " print(\"Gen RAM Free: \" + humanize.naturalsize( psutil.virtual_memory().available ), \" | Proc size: \" + humanize.naturalsize( process.memory_info().rss))\n",
        " print(\"GPU RAM Free: {0:.0f}MB | Used: {1:.0f}MB | Util {2:3.0f}% | Total {3:.0f}MB\".format(gpu.memoryFree, gpu.memoryUsed, gpu.memoryUtil*100, gpu.memoryTotal))\n",
        "printm()"
      ],
      "execution_count": 0,
      "outputs": [
        {
          "output_type": "stream",
          "text": [
            "Collecting gputil\n",
            "  Downloading https://files.pythonhosted.org/packages/ed/0e/5c61eedde9f6c87713e89d794f01e378cfd9565847d4576fa627d758c554/GPUtil-1.4.0.tar.gz\n",
            "Building wheels for collected packages: gputil\n",
            "  Building wheel for gputil (setup.py) ... \u001b[?25l\u001b[?25hdone\n",
            "  Created wheel for gputil: filename=GPUtil-1.4.0-cp36-none-any.whl size=7410 sha256=91e89ca49532cf4631cf7fafc77ba32199e3b2bcadb7a68b42e0722389bb1424\n",
            "  Stored in directory: /root/.cache/pip/wheels/3d/77/07/80562de4bb0786e5ea186911a2c831fdd0018bda69beab71fd\n",
            "Successfully built gputil\n",
            "Installing collected packages: gputil\n",
            "Successfully installed gputil-1.4.0\n",
            "Requirement already satisfied: psutil in /usr/local/lib/python3.6/dist-packages (5.4.8)\n",
            "Requirement already satisfied: humanize in /usr/local/lib/python3.6/dist-packages (0.5.1)\n",
            "Gen RAM Free: 12.8 GB  | Proc size: 154.0 MB\n",
            "GPU RAM Free: 11441MB | Used: 0MB | Util   0% | Total 11441MB\n"
          ],
          "name": "stdout"
        }
      ]
    },
    {
      "cell_type": "code",
      "metadata": {
        "id": "hF87HZRn1UFF",
        "colab_type": "code",
        "outputId": "74b78573-8b7b-4708-a213-8a8250174907",
        "colab": {
          "base_uri": "https://localhost:8080/",
          "height": 326
        }
      },
      "source": [
        "# Install pytorch\n",
        "\n",
        "from os import path\n",
        "from wheel.pep425tags import get_abbr_impl, get_impl_ver, get_abi_tag\n",
        "platform = '{}{}-{}'.format(get_abbr_impl(), get_impl_ver(), get_abi_tag())\n",
        "\n",
        "accelerator = 'cu80' if path.exists('/opt/bin/nvidia-smi') else 'cpu'\n",
        "print('Accelerator: ', accelerator)\n",
        "\n",
        "print('Installing Torch') \n",
        "!pip install -q http://download.pytorch.org/whl/{accelerator}/torch-1.0.0-{platform}-linux_x86_64.whl\n",
        "# Issue with torchvision version\n",
        "!pip install torchvision==0.2.1\n",
        "import torch\n",
        "import torchvision"
      ],
      "execution_count": 3,
      "outputs": [
        {
          "output_type": "stream",
          "text": [
            "Accelerator:  cu80\n",
            "Installing Torch\n",
            "\u001b[K     |████████████████████████████████| 532.5MB 1.2MB/s \n",
            "\u001b[31mERROR: torchvision 0.4.0 has requirement torch==1.2.0, but you'll have torch 1.0.0 which is incompatible.\u001b[0m\n",
            "\u001b[?25hCollecting torchvision==0.2.1\n",
            "\u001b[?25l  Downloading https://files.pythonhosted.org/packages/ca/0d/f00b2885711e08bd71242ebe7b96561e6f6d01fdb4b9dcf4d37e2e13c5e1/torchvision-0.2.1-py2.py3-none-any.whl (54kB)\n",
            "\u001b[K     |████████████████████████████████| 61kB 2.4MB/s \n",
            "\u001b[?25hRequirement already satisfied: pillow>=4.1.1 in /usr/local/lib/python3.6/dist-packages (from torchvision==0.2.1) (4.3.0)\n",
            "Requirement already satisfied: six in /usr/local/lib/python3.6/dist-packages (from torchvision==0.2.1) (1.12.0)\n",
            "Requirement already satisfied: torch in /usr/local/lib/python3.6/dist-packages (from torchvision==0.2.1) (1.0.0)\n",
            "Requirement already satisfied: numpy in /usr/local/lib/python3.6/dist-packages (from torchvision==0.2.1) (1.16.5)\n",
            "Requirement already satisfied: olefile in /usr/local/lib/python3.6/dist-packages (from pillow>=4.1.1->torchvision==0.2.1) (0.46)\n",
            "Installing collected packages: torchvision\n",
            "  Found existing installation: torchvision 0.4.0\n",
            "    Uninstalling torchvision-0.4.0:\n",
            "      Successfully uninstalled torchvision-0.4.0\n",
            "Successfully installed torchvision-0.2.1\n"
          ],
          "name": "stdout"
        }
      ]
    },
    {
      "cell_type": "code",
      "metadata": {
        "id": "2ELd4etA2pLA",
        "colab_type": "code",
        "colab": {}
      },
      "source": [
        "ROOT_DIRECTORY = '.'"
      ],
      "execution_count": 0,
      "outputs": []
    },
    {
      "cell_type": "code",
      "metadata": {
        "id": "P0LchfQF2ut_",
        "colab_type": "code",
        "outputId": "4469e1ea-b9b3-4953-ea03-299674dafcd7",
        "colab": {
          "base_uri": "https://localhost:8080/",
          "height": 122
        }
      },
      "source": [
        "# Allow saving files to google drive if ran on colab\n",
        "from google.colab import drive\n",
        "drive.mount('/content/gdrive')\n",
        "ROOT_DIRECTORY = '/content/gdrive/My Drive/Colab Notebooks/ELEC5307 Project1'"
      ],
      "execution_count": 5,
      "outputs": [
        {
          "output_type": "stream",
          "text": [
            "Go to this URL in a browser: https://accounts.google.com/o/oauth2/auth?client_id=947318989803-6bn6qk8qdgf4n4g3pfee6491hc0brc4i.apps.googleusercontent.com&redirect_uri=urn%3Aietf%3Awg%3Aoauth%3A2.0%3Aoob&scope=email%20https%3A%2F%2Fwww.googleapis.com%2Fauth%2Fdocs.test%20https%3A%2F%2Fwww.googleapis.com%2Fauth%2Fdrive%20https%3A%2F%2Fwww.googleapis.com%2Fauth%2Fdrive.photos.readonly%20https%3A%2F%2Fwww.googleapis.com%2Fauth%2Fpeopleapi.readonly&response_type=code\n",
            "\n",
            "Enter your authorization code:\n",
            "··········\n",
            "Mounted at /content/gdrive\n"
          ],
          "name": "stdout"
        }
      ]
    },
    {
      "cell_type": "markdown",
      "metadata": {
        "id": "KWNbVCSn3jHA",
        "colab_type": "text"
      },
      "source": [
        "# IMPORTS"
      ]
    },
    {
      "cell_type": "code",
      "metadata": {
        "id": "mB0P1mOh3b8Q",
        "colab_type": "code",
        "colab": {}
      },
      "source": [
        "# useful packages\n",
        "import torch\n",
        "import torchvision\n",
        "import torchvision.transforms as transforms\n",
        "from torch import nn\n",
        "\n",
        "import torch.nn.functional as F\n",
        "from torch.utils.data import SubsetRandomSampler\n",
        "import torch.optim as optim\n",
        "\n",
        "\n",
        "import numpy as np\n",
        "import math\n",
        "import random\n",
        "\n",
        "import matplotlib.pyplot as plt\n",
        "\n",
        "import os\n",
        "import pickle\n"
      ],
      "execution_count": 0,
      "outputs": []
    },
    {
      "cell_type": "markdown",
      "metadata": {
        "id": "x8jTLUHsPjul",
        "colab_type": "text"
      },
      "source": [
        "# HYPERPARAMETERS"
      ]
    },
    {
      "cell_type": "code",
      "metadata": {
        "id": "0jDXwpQePmkG",
        "colab_type": "code",
        "colab": {}
      },
      "source": [
        "LEARNING_RATE = 0.001\n",
        "BATCH_SIZE = 8\n",
        "EPOCHS = 16\n",
        "\n",
        "CROP_SIZE=24"
      ],
      "execution_count": 0,
      "outputs": []
    },
    {
      "cell_type": "markdown",
      "metadata": {
        "id": "hDeDL3wW2_dv",
        "colab_type": "text"
      },
      "source": [
        "# CODE\n",
        "\n",
        "## 1st Influence: Data Transformation"
      ]
    },
    {
      "cell_type": "code",
      "metadata": {
        "id": "TavHZH483LYl",
        "colab_type": "code",
        "outputId": "4511cf7b-1537-4487-f8ba-ed1ec18b87d5",
        "colab": {
          "base_uri": "https://localhost:8080/",
          "height": 51
        }
      },
      "source": [
        "\"\"\"\n",
        "Modification of the transformations\n",
        "Choice          Parameters\n",
        "---------------------------\n",
        "Center Crop     size\n",
        "Five Crop       size\n",
        "Resize          size + interpolation\n",
        "\"\"\"\n",
        "transform_original = transforms.Compose(\n",
        "    [transforms.ToTensor(),\n",
        "     transforms.Normalize((0.5, 0.5, 0.5), (0.5, 0.5, 0.5))])\n",
        "\n",
        "transform_centercrop = transforms.Compose(\n",
        "    [# Cropping\n",
        "     transforms.CenterCrop(CROP_SIZE),\n",
        "     transforms.Resize(32),\n",
        "     transforms.ToTensor(),\n",
        "     transforms.Normalize((0.5, 0.5, 0.5), (0.5, 0.5, 0.5))])\n",
        "\n",
        "def handleFiveCrops(crops):\n",
        "    # original \n",
        "    # return torch.stack([ToTensor()(crop) for crop in crops])\n",
        "    tensor_stack = []\n",
        "    for crop in crops:\n",
        "      new_tensor = transforms.Compose([\n",
        "                                       transforms.Resize(32),\n",
        "                                       transforms.ToTensor(),\n",
        "                                       transforms.Normalize((0.5, 0.5, 0.5), (0.5, 0.5, 0.5))\n",
        "                                       ])(crop)\n",
        "      tensor_stack.append(new_tensor)\n",
        "    return torch.stack(tensor_stack)\n",
        "\n",
        "def randomFromFiveCrops(crops):\n",
        "    randomIndex = random.randint(0,len(crops)-1)\n",
        "    return crops[randomIndex]\n",
        "\n",
        "transform_fivecrop = transforms.Compose(\n",
        "    [# Cropping\n",
        "     transforms.FiveCrop(22),\n",
        "     # transforms.Lambda(lambda crops: torch.stack([transforms.ToTensor()(crop) for crop in crops])),\n",
        "     transforms.Lambda(lambda crops: handleFiveCrops(crops)),\n",
        "     ])\n",
        "\n",
        "transform_modified = transforms.RandomChoice([\n",
        "    transforms.Compose([\n",
        "                        transforms.ToTensor(),\n",
        "                        transforms.Normalize((0.5, 0.5, 0.5), (0.5, 0.5, 0.5))\n",
        "    ]),\n",
        "    transforms.Compose([\n",
        "                        transforms.FiveCrop(24), # What choice here?\n",
        "                        transforms.Lambda(lambda crops: randomFromFiveCrops(crops)),\n",
        "                        transforms.Resize(32),\n",
        "                        transforms.ToTensor(),\n",
        "                        transforms.Normalize((0.5, 0.5, 0.5), (0.5, 0.5, 0.5))\n",
        "    ]),                     \n",
        "  ])\n",
        "\n",
        "\n",
        "data_transform = transform_modified\n",
        "# data_transform = transform_original\n",
        "\n",
        "trainset = torchvision.datasets.CIFAR10(root='./data', train=True,\n",
        "                                        download=True, transform=data_transform)\n",
        "\n",
        "trainloader = torch.utils.data.DataLoader(trainset, batch_size=4,\n",
        "                                          shuffle=True, num_workers=2)\n",
        "\n",
        "test_transform = transforms.ToTensor()\n",
        "\n",
        "testset = torchvision.datasets.CIFAR10(root='./data', train=False,\n",
        "                                       download=True, transform=data_transform)\n",
        "testloader = torch.utils.data.DataLoader(testset, batch_size=4,\n",
        "                                         shuffle=False, num_workers=2)\n",
        "\n",
        "classes = ('plane', 'car', 'bird', 'cat',\n",
        "           'deer', 'dog', 'frog', 'horse', 'ship', 'truck')"
      ],
      "execution_count": 29,
      "outputs": [
        {
          "output_type": "stream",
          "text": [
            "Files already downloaded and verified\n",
            "Files already downloaded and verified\n"
          ],
          "name": "stdout"
        }
      ]
    },
    {
      "cell_type": "code",
      "metadata": {
        "id": "-9VkJ98h8qrW",
        "colab_type": "code",
        "outputId": "a7863764-f6b7-4fc9-cd6f-dc50e481345a",
        "colab": {
          "base_uri": "https://localhost:8080/",
          "height": 173
        }
      },
      "source": [
        "def showimg(tensor):\n",
        "    tensor = tensor / 2 + 0.5     # unnormalize, because normalization is (img - 0.5)/0.5 in transforms.Normalize\n",
        "    npimg = tensor.numpy()\n",
        "    plt.imshow(np.transpose(npimg, (1, 2, 0)))\n",
        "\n",
        "# Visualization of random training images\n",
        "dataiter = trainloader.__iter__()\n",
        "input, labels = dataiter.next()\n",
        "\n",
        "# ------\n",
        "# IF FIVE CROPS TOTAL\n",
        "# bs, ncrops, c, h, w = input.size()\n",
        "# input = input.view(-1, c, h, w) # fuse crops and bs\n",
        "# if include the five crop, how to handle the difference in shapes with at random?\n",
        "# Can just have a switch, if five crops, multiplies the bs by 5.\n",
        "# ------\n",
        "\n",
        "print(input.shape)\n",
        "# show images\n",
        "showimg(torchvision.utils.make_grid(input))\n",
        "\n",
        "# print labels\n",
        "print(' '.join('%5s' % classes[labels[j]] for j in range(4)))"
      ],
      "execution_count": 32,
      "outputs": [
        {
          "output_type": "stream",
          "text": [
            "torch.Size([4, 3, 32, 32])\n",
            "plane   dog  frog horse\n"
          ],
          "name": "stdout"
        },
        {
          "output_type": "display_data",
          "data": {
            "image/png": "[encoded data removed]",
            "text/plain": [
              "<Figure size 432x288 with 1 Axes>"
            ]
          },
          "metadata": {
            "tags": []
          }
        }
      ]
    },
    {
      "cell_type": "markdown",
      "metadata": {
        "id": "LcOPhxwtQNJ8",
        "colab_type": "text"
      },
      "source": [
        "#### Generate the Test/Validation Split to monitor training"
      ]
    },
    {
      "cell_type": "code",
      "metadata": {
        "id": "VrK5UPiWQSXd",
        "colab_type": "code",
        "colab": {}
      },
      "source": [
        "VALIDATION_SET_SIZE = 5000\n",
        "ACCELERATED_TRAINING = False\n",
        "\n",
        "if ACCELERATED_TRAINING:\n",
        "    SCALING_FACTOR = 100\n",
        "    indices = np.arange(int(len(trainset)/SCALING_FACTOR)) # Reduce size of the dataset by a factor 10 for quicker parameter evaluation!\n",
        "    np.random.shuffle(indices) # for shuffle = True\n",
        "    split = int(len(indices)*0.8) # Can't use 5000 values for validation, use more traditional 80/20 split\n",
        "    RECORD_EVERY = int(2000 / SCALING_FACTOR)\n",
        "else:\n",
        "    indices = np.arange(len(trainset))\n",
        "    np.random.shuffle(indices) # for shuffle = True\n",
        "    split = len(trainset) - VALIDATION_SET_SIZE\n",
        "    RECORD_EVERY = int(2000 * (8/BATCH_SIZE))\n",
        "\n",
        "\n",
        "validation_set_size = len(indices) - split\n",
        "\n",
        "train_sampler, validation_sampler = SubsetRandomSampler(indices[:split]), SubsetRandomSampler(indices[split:])"
      ],
      "execution_count": 0,
      "outputs": []
    },
    {
      "cell_type": "markdown",
      "metadata": {
        "id": "OdjijQep3xS4",
        "colab_type": "text"
      },
      "source": [
        "##2nd Influence: Network Structure"
      ]
    },
    {
      "cell_type": "code",
      "metadata": {
        "id": "FGuKSvBzgKD9",
        "colab_type": "code",
        "colab": {}
      },
      "source": [
        "\"\"\"\n",
        "Initial Output Channels\n",
        "\"\"\"\n",
        "I_C = 16\n",
        "DL_C = 1024"
      ],
      "execution_count": 0,
      "outputs": []
    },
    {
      "cell_type": "code",
      "metadata": {
        "id": "VxNx7Rad32Ar",
        "colab_type": "code",
        "outputId": "31872a50-ef1e-43fa-c0fe-4d93c759dada",
        "colab": {
          "base_uri": "https://localhost:8080/",
          "height": 51
        }
      },
      "source": [
        "class CNN(nn.Module):\n",
        "    def __init__(self):\n",
        "        super(CNN, self).__init__()\n",
        "        # define the network layers\n",
        "\n",
        "        # nn.Conv2d(input_channel, output_channel, filter_size,\n",
        "        #     stride=stride, padding=padding)\n",
        "        # By default, padding=0, stride=1\n",
        "        # CIFAR 10 is 32*32*3\n",
        "        # Pooling Method, Kernel size, dropout and activation method shall not be experimented with.\n",
        "\n",
        "        self.conv1 = nn.Conv2d(3,I_C,5) \n",
        "        self.pool1 = nn.MaxPool2d(2,2)\n",
        "        self.conv2 = nn.Conv2d(I_C, I_C*4, 5)\n",
        "        self.pool2 = nn.MaxPool2d(2,2)\n",
        "        self.conv3 = nn.Conv2d(I_C*4, I_C*4*4, 5)\n",
        "        self.pool3 = nn.MaxPool2d(2,2)\n",
        "\n",
        "        self.fc1 = nn.Linear(I_C*4*4,DL_C)\n",
        "        self.fc2 = nn.Linear(DL_C,DL_C)\n",
        "        self.fc3 = nn.Linear(DL_C,10)\n",
        "\n",
        "    def forward(self, x):\n",
        "        # define the network structure\n",
        "        x = self.pool1(F.relu(self.conv1(x)))\n",
        "        x = self.pool2(F.relu(self.conv2(x)))\n",
        "        x = self.pool3(F.relu(self.conv3(x)))\n",
        "\n",
        "        # Reshape\n",
        "        x = x.view(-1,I_C*4*4)\n",
        "\n",
        "        x = F.relu(self.fc1(x))\n",
        "        x = F.relu(self.fc2(x))\n",
        "        x = self.fc3(x)\n",
        "\n",
        "        return x\n",
        "\n",
        "cnn = CNN()\n",
        "\n",
        "# test\n",
        "# REMINDER, shape of tensor: [BS, CH, HEIGHT, WIDTH]\n",
        "TEST_INPUT = True\n",
        "if TEST_INPUT:\n",
        "  input = torch.rand((1,3,32,32))\n",
        "  print(cnn(input))"
      ],
      "execution_count": 24,
      "outputs": [
        {
          "output_type": "stream",
          "text": [
            "tensor([[-0.0403,  0.0181, -0.0038, -0.0286,  0.0503,  0.0027, -0.0251,  0.0033,\n",
            "          0.0412, -0.0378]], grad_fn=<AddmmBackward>)\n"
          ],
          "name": "stdout"
        }
      ]
    },
    {
      "cell_type": "markdown",
      "metadata": {
        "id": "wr_AMfs13tCw",
        "colab_type": "text"
      },
      "source": [
        "## 3rd Influence: Optimizer\n",
        "\n",
        "https://arxiv.org/pdf/1506.01186.pdf cyclical lr -> implementation"
      ]
    },
    {
      "cell_type": "code",
      "metadata": {
        "id": "WgrkB_c53Y-x",
        "colab_type": "code",
        "colab": {}
      },
      "source": [
        "criterion = nn.CrossEntropyLoss()\n",
        "optimizer = optim.SGD(cnn.parameters(), lr=LEARNING_RATE, momentum=0.9)\n",
        "# optimizer = optim.SGD(cnn.parameters(), lr=1, momentum=0.9) # Important to put LR=1 here with CLR!!\n",
        "\n",
        "# CLR\n",
        "def cyclical_learning_rate(min_lr, max_lr, stepsize, mode='triangular'):\n",
        "  if mode == 'triangular':\n",
        "    scaler = lambda x: 1\n",
        "  if mode == 'triangular2':\n",
        "    scaler = lambda x: (1/2)**(x-1)\n",
        "\n",
        "  lr_scheduler = lambda iteration: min_lr + (max_lr - min_lr)*eval(iteration, stepsize)\n",
        "\n",
        "# What about exp? Shown not to yield significantly better results, more complex to implement so didn't\n",
        "\n",
        "  def eval(iteration, stepsize):\n",
        "    cycle = math.floor(1+(iteration/(2*stepsize)))\n",
        "    x = abs(iteration/stepsize - 2*cycle +1)\n",
        "    return max(0,(1-x))*scaler(cycle)\n",
        "\n",
        "  return lr_scheduler\n",
        "\n",
        "def manual_plateau(epoch):\n",
        "    if epoch + 1 >= 10:\n",
        "      return 0.1**2\n",
        "    if epoch + 1 >= 5:\n",
        "      return 0.1\n",
        "    return 1\n",
        "\n",
        "# Stepsize is good when = (Nbr iterations / epoch) * 2 ~ 10. We choose 2 multiplier.\n",
        "stepsize = int(len(train_sampler) / BATCH_SIZE * 2) - 500\n",
        "lambdaCLR = cyclical_learning_rate(LEARNING_RATE, LEARNING_RATE * 6, stepsize, mode='triangular2')\n",
        "lambdaSimple = lambda epoch: 0.9**epoch\n",
        "# scheduler = optim.lr_scheduler.LambdaLR(optimizer, [lambdaCLR])\n",
        "scheduler = optim.lr_scheduler.LambdaLR(optimizer, [manual_plateau])\n",
        "# scheduler = None"
      ],
      "execution_count": 0,
      "outputs": []
    },
    {
      "cell_type": "markdown",
      "metadata": {
        "id": "ifI71NXikDfc",
        "colab_type": "text"
      },
      "source": [
        "# ===========\n",
        "\n",
        "#### Training "
      ]
    },
    {
      "cell_type": "code",
      "metadata": {
        "id": "JQcs6e4qAE02",
        "colab_type": "code",
        "colab": {}
      },
      "source": [
        "def serializeObject(obj, fileName):\n",
        "    with open(fileName, 'wb') as fileHandler:\n",
        "        pickle.dump(obj, fileHandler, protocol=pickle.HIGHEST_PROTOCOL)\n",
        "\n",
        "def train_network(ann, train_loader, validation_loader,\n",
        "                  optimizer, scheduler, criterion,\n",
        "                  batch_size=2, lr=0.001, epoch=2,\n",
        "                  download=False, root_directory='',\n",
        "                  record_every=20):\n",
        "    \n",
        "    training_loss = []\n",
        "    validation_loss = []  \n",
        "\n",
        "    validation_set_size = len(validation_loader.sampler)\n",
        "\n",
        "    for e in range(epoch):\n",
        "\n",
        "        if type(scheduler).__name__ != 'NoneType':\n",
        "            scheduler.step()\n",
        "        \n",
        "        print('Epoch {}, lr {}'.format(e+1, optimizer.param_groups[0]['lr']))\n",
        "\n",
        "        running_loss = 0.\n",
        "        for i, data in enumerate(train_loader, 0):\n",
        "            inputs, labels = data\n",
        "            optimizer.zero_grad()\n",
        "            outputs = ann(inputs)\n",
        "            loss = criterion(outputs, labels)\n",
        "            loss.backward()\n",
        "            # Scheduler step as well!\n",
        "            # if type(scheduler).__name__ != 'NoneType':\n",
        "            #     scheduler.step()\n",
        "            optimizer.step()\n",
        "\n",
        "            running_loss += loss.item()\n",
        "            \n",
        "            if i % record_every == (record_every - 1):\n",
        "                print('[%d, %5d] loss: %.3f' %\n",
        "                      (e + 1, i + 1, running_loss / record_every))\n",
        "                # Training loss\n",
        "                training_loss.append(running_loss / record_every)\n",
        "                running_loss = 0.0\n",
        "            \n",
        "                # Validation loss\n",
        "                running_validation_loss = 0\n",
        "                for indices, data in enumerate(validation_loader, 0):\n",
        "                    inputs, labels = data\n",
        "                    outputs = ann(inputs)\n",
        "                    loss = criterion(outputs, labels)\n",
        "                    running_validation_loss += loss.item()\n",
        "                validation_loss.append(running_validation_loss / (validation_set_size/batch_size))\n",
        "    \n",
        "    \n",
        "    if download:\n",
        "        dir_name = '{0}/training_recording_part3/bs{1},lr{2},epoch{3}'.format(root_directory, batch_size, lr, epoch)\n",
        "        if not os.path.exists(dir_name):\n",
        "            os.makedirs(dir_name)\n",
        "        \n",
        "        # Save losses for eventual future use\n",
        "        serializeObject(training_loss, dir_name + '/training_loss.pickle')\n",
        "        serializeObject(validation_loss, dir_name + '/validation_loss.pickle')\n",
        "\n",
        "        # Save network weights for eventual future use\n",
        "        torch.save(ann.state_dict(), dir_name + '/network_weights.pickle')\n",
        "        \n",
        "        iterations = np.arange(len(training_loss))*record_every\n",
        "        plt.figure()\n",
        "        plt.title('Training and Validation Loss During Training')\n",
        "        plt.xlabel('Iterations')\n",
        "        plt.ylabel('Loss Value')\n",
        "        plt.plot(iterations, training_loss, '-', color='royalblue')\n",
        "        plt.plot(iterations, validation_loss, '-', color='tomato')\n",
        "        plt.legend(['Training', 'Validation'])\n",
        "        plt.savefig(dir_name + '/e{0},lr{1},bs{2}.png'.format(epoch, lr, batch_size), bbox_inches='tight')\n",
        "\n",
        "        \n",
        "    \n",
        "    return ann"
      ],
      "execution_count": 0,
      "outputs": []
    },
    {
      "cell_type": "markdown",
      "metadata": {
        "id": "QSAjsg3hlVzn",
        "colab_type": "text"
      },
      "source": [
        "#### Eval"
      ]
    },
    {
      "cell_type": "code",
      "metadata": {
        "id": "CVKLCfNtmtoR",
        "colab_type": "code",
        "colab": {}
      },
      "source": [
        "def eval_net(net, testloader):\n",
        "    correct = 0\n",
        "    total = 0\n",
        "    with torch.no_grad():\n",
        "        for data in testloader:\n",
        "            images, labels = data\n",
        "            outputs = net(images)\n",
        "            _, predicted = torch.max(outputs.data, 1)\n",
        "            total += labels.size(0)\n",
        "            correct += (predicted == labels).sum().item()\n",
        "    \n",
        "    # Own\n",
        "    accuracy = 100 * correct / total\n",
        "    \n",
        "    print('Accuracy of the network on the 10000 test images: %d %%' % (accuracy))\n",
        "    return accuracy"
      ],
      "execution_count": 0,
      "outputs": []
    },
    {
      "cell_type": "markdown",
      "metadata": {
        "id": "9h1bq1Solo-A",
        "colab_type": "text"
      },
      "source": [
        "#### Run"
      ]
    },
    {
      "cell_type": "code",
      "metadata": {
        "id": "j_td11kPlm77",
        "colab_type": "code",
        "outputId": "2937ec54-db36-4d90-8358-7d213fa066d0",
        "colab": {
          "base_uri": "https://localhost:8080/",
          "height": 1000
        }
      },
      "source": [
        "# cnn = CNN() # NEVER do that without reinstantianting the optimizer as well, discrepency between parameters and optimizer!\n",
        "\n",
        "train_loader = torch.utils.data.DataLoader(trainset,\n",
        "                                           batch_size=BATCH_SIZE,\n",
        "                                           num_workers=2,\n",
        "                                           sampler=train_sampler\n",
        "                                          )\n",
        "validation_loader = torch.utils.data.DataLoader(trainset,\n",
        "                                                batch_size=BATCH_SIZE,\n",
        "                                                num_workers=2,\n",
        "                                                sampler=validation_sampler\n",
        "                                               )\n",
        "\n",
        "cnn = train_network(cnn, train_loader, validation_loader,\n",
        "                    optimizer, scheduler, criterion,\n",
        "                    batch_size=BATCH_SIZE, lr=LEARNING_RATE, epoch=EPOCHS,\n",
        "                    download=True, root_directory=ROOT_DIRECTORY,\n",
        "                    record_every=RECORD_EVERY)\n",
        "\n",
        "accuracy = eval_net(cnn, testloader)"
      ],
      "execution_count": 28,
      "outputs": [
        {
          "output_type": "stream",
          "text": [
            "Epoch 1, lr 0.001\n",
            "[1,  2000] loss: 2.189\n",
            "[1,  4000] loss: 1.745\n",
            "Epoch 2, lr 0.001\n",
            "[2,  2000] loss: 1.405\n",
            "[2,  4000] loss: 1.307\n",
            "Epoch 3, lr 0.001\n",
            "[3,  2000] loss: 1.131\n",
            "[3,  4000] loss: 1.096\n",
            "Epoch 4, lr 0.001\n",
            "[4,  2000] loss: 0.960\n",
            "[4,  4000] loss: 0.930\n",
            "Epoch 5, lr 0.0001\n",
            "[5,  2000] loss: 0.717\n",
            "[5,  4000] loss: 0.686\n",
            "Epoch 6, lr 0.0001\n",
            "[6,  2000] loss: 0.651\n",
            "[6,  4000] loss: 0.633\n",
            "Epoch 7, lr 0.0001\n",
            "[7,  2000] loss: 0.610\n",
            "[7,  4000] loss: 0.611\n",
            "Epoch 8, lr 0.0001\n",
            "[8,  2000] loss: 0.569\n",
            "[8,  4000] loss: 0.585\n",
            "Epoch 9, lr 0.0001\n",
            "[9,  2000] loss: 0.537\n",
            "[9,  4000] loss: 0.553\n",
            "Epoch 10, lr 1.0000000000000003e-05\n",
            "[10,  2000] loss: 0.500\n",
            "[10,  4000] loss: 0.498\n",
            "Epoch 11, lr 1.0000000000000003e-05\n",
            "[11,  2000] loss: 0.497\n",
            "[11,  4000] loss: 0.494\n",
            "Epoch 12, lr 1.0000000000000003e-05\n",
            "[12,  2000] loss: 0.490\n",
            "[12,  4000] loss: 0.487\n",
            "Epoch 13, lr 1.0000000000000003e-05\n",
            "[13,  2000] loss: 0.489\n",
            "[13,  4000] loss: 0.486\n",
            "Epoch 14, lr 1.0000000000000003e-05\n",
            "[14,  2000] loss: 0.472\n",
            "[14,  4000] loss: 0.483\n",
            "Epoch 15, lr 1.0000000000000003e-05\n",
            "[15,  2000] loss: 0.472\n",
            "[15,  4000] loss: 0.484\n",
            "Epoch 16, lr 1.0000000000000003e-05\n",
            "[16,  2000] loss: 0.478\n",
            "[16,  4000] loss: 0.468\n",
            "Accuracy of the network on the 10000 test images: 71 %\n"
          ],
          "name": "stdout"
        },
        {
          "output_type": "display_data",
          "data": {
            "image/png": "[encoded data removed]",
            "text/plain": [
              "<Figure size 432x288 with 1 Axes>"
            ]
          },
          "metadata": {
            "tags": []
          }
        }
      ]
    },
    {
      "cell_type": "markdown",
      "metadata": {
        "id": "RqTJfvpC-WWX",
        "colab_type": "text"
      },
      "source": [
        "#### RUNS\n",
        "\n",
        "* baseline 1 62%\n",
        "* baseline 2 62%\n",
        "* baseline 3 61%\n",
        "\n",
        "----\n",
        "\n",
        "* Structure 16 69%, overfit at epoch = 5\n",
        "* Structure 16 69%\n",
        "* Structure 8 64%, overfit at epoch = 5\n",
        "* Structure 4 62%, overfit at epoch = 5\n",
        "\n",
        "----\n",
        "\n",
        "* Structure 16 with large dense layers 70%\n",
        "* Structure 16 with large dense layers 70%\n",
        "\n",
        "----\n",
        "\n",
        "\n",
        "* Structure 16 with plateau scheduler 71%\n",
        "* Structure 16 with plateau scheduler + large dense layers 72% (1/2 at 5 and 10 epochs)\n",
        "* Structure 16 with plateau scheduler + large dense layers 72% (1/2 at 5 and 10 epochs)\n",
        "* Structure 16 with plateau scheduler + large dense layers 72% (1/10 at 5 and 10 epochs) -> less overfit from the curve\n",
        "\n",
        "-\n",
        "Note 45000/8 = 5625 iterations per epoch -> \n",
        "* Structure 16 with cyclical scheduler (tr) + large dense layers 70% (stepsize 2 epochs)\n",
        "* Structure 16 with cyclical scheduler (tr) + large dense layers 69% (stepsize 2 epochs - 500)\n",
        "* Structure 16 with cyclical scheduler (tr2) + large dense layers 72% (stepsize 2 epochs - 500)\n",
        "* Structure 16 with cyclical scheduler (tr2) + large dense layers for 6 epochs 69% (stepsize 2 epochs - 500)\n",
        "* Structure 16 with cyclical scheduler (tr2) + large dense layers for 10 epochs 70% (stepsize 2 epochs - 500)\n",
        "\n",
        "\n",
        "----\n",
        "\n",
        "* Structure 16 with plateau scheduler + large dense layers + five crops 63% (1/2 at 5 and 10 epochs)\n",
        "* Structure 16 with plateau scheduler + large dense layers + five crops 62% (1/2 at 5 and 10 epochs)\n",
        "\n",
        "these were 10 epochs!\n",
        "\n",
        "* Structure 16 with plateau scheduler + large dense layers + five crops 65% (1/2 at 5 and 10 epochs)\n",
        "* Structure 16 with plateau scheduler + large dense layers + five crops 65% (1/2 at 5 and 10 epochs)\n",
        "\n",
        "\n"
      ]
    },
    {
      "cell_type": "code",
      "metadata": {
        "id": "E_i0k7Wjnch0",
        "colab_type": "code",
        "colab": {}
      },
      "source": [
        " "
      ],
      "execution_count": 0,
      "outputs": []
    },
    {
      "cell_type": "code",
      "metadata": {
        "id": "Vy2DJZYgeRPk",
        "colab_type": "code",
        "colab": {}
      },
      "source": [
        ""
      ],
      "execution_count": 0,
      "outputs": []
    }
  ]
}