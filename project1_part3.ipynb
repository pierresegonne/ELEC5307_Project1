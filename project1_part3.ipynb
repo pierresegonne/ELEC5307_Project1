{
  "nbformat": 4,
  "nbformat_minor": 0,
  "metadata": {
    "colab": {
      "name": "project1_part3.ipynb",
      "provenance": [],
      "collapsed_sections": [],
      "include_colab_link": true
    },
    "kernelspec": {
      "name": "python3",
      "display_name": "Python 3"
    }
  },
  "cells": [
    {
      "cell_type": "markdown",
      "metadata": {
        "id": "view-in-github",
        "colab_type": "text"
      },
      "source": [
        "<a href=\"https://colab.research.google.com/github/pierresegonne/ELEC5307_Project1/blob/master/project1_part3.ipynb\" target=\"_parent\"><img src=\"https://colab.research.google.com/assets/colab-badge.svg\" alt=\"Open In Colab\"/></a>"
      ]
    },
    {
      "cell_type": "markdown",
      "metadata": {
        "id": "3t0iPF873e03",
        "colab_type": "text"
      },
      "source": [
        "# UTILS"
      ]
    },
    {
      "cell_type": "code",
      "metadata": {
        "id": "hF87HZRn1UFF",
        "colab_type": "code",
        "outputId": "ca71ae53-c01d-4174-a9e1-b7379b843318",
        "colab": {
          "base_uri": "https://localhost:8080/",
          "height": 326
        }
      },
      "source": [
        "# Install pytorch\n",
        "\n",
        "from os import path\n",
        "from wheel.pep425tags import get_abbr_impl, get_impl_ver, get_abi_tag\n",
        "platform = '{}{}-{}'.format(get_abbr_impl(), get_impl_ver(), get_abi_tag())\n",
        "\n",
        "accelerator = 'cu80' if path.exists('/opt/bin/nvidia-smi') else 'cpu'\n",
        "print('Accelerator: ', accelerator)\n",
        "\n",
        "print('Installing Torch') \n",
        "!pip install -q http://download.pytorch.org/whl/{accelerator}/torch-1.0.0-{platform}-linux_x86_64.whl\n",
        "# Issue with torchvision version\n",
        "!pip install torchvision==0.2.1\n",
        "import torch\n",
        "import torchvision"
      ],
      "execution_count": 0,
      "outputs": [
        {
          "output_type": "stream",
          "text": [
            "Accelerator:  cpu\n",
            "Installing Torch\n",
            "\u001b[K     |████████████████████████████████| 69.4MB 50.8MB/s \n",
            "\u001b[31mERROR: torchvision 0.3.0 has requirement torch>=1.1.0, but you'll have torch 1.0.0 which is incompatible.\u001b[0m\n",
            "\u001b[?25hCollecting torchvision==0.2.1\n",
            "\u001b[?25l  Downloading https://files.pythonhosted.org/packages/ca/0d/f00b2885711e08bd71242ebe7b96561e6f6d01fdb4b9dcf4d37e2e13c5e1/torchvision-0.2.1-py2.py3-none-any.whl (54kB)\n",
            "\u001b[K     |████████████████████████████████| 61kB 4.2MB/s \n",
            "\u001b[?25hRequirement already satisfied: torch in /usr/local/lib/python3.6/dist-packages (from torchvision==0.2.1) (1.0.0)\n",
            "Requirement already satisfied: six in /usr/local/lib/python3.6/dist-packages (from torchvision==0.2.1) (1.12.0)\n",
            "Requirement already satisfied: numpy in /usr/local/lib/python3.6/dist-packages (from torchvision==0.2.1) (1.16.5)\n",
            "Requirement already satisfied: pillow>=4.1.1 in /usr/local/lib/python3.6/dist-packages (from torchvision==0.2.1) (4.3.0)\n",
            "Requirement already satisfied: olefile in /usr/local/lib/python3.6/dist-packages (from pillow>=4.1.1->torchvision==0.2.1) (0.46)\n",
            "Installing collected packages: torchvision\n",
            "  Found existing installation: torchvision 0.3.0\n",
            "    Uninstalling torchvision-0.3.0:\n",
            "      Successfully uninstalled torchvision-0.3.0\n",
            "Successfully installed torchvision-0.2.1\n"
          ],
          "name": "stdout"
        }
      ]
    },
    {
      "cell_type": "code",
      "metadata": {
        "id": "2ELd4etA2pLA",
        "colab_type": "code",
        "colab": {}
      },
      "source": [
        "ROOT_DIRECTORY = '.'"
      ],
      "execution_count": 0,
      "outputs": []
    },
    {
      "cell_type": "code",
      "metadata": {
        "id": "P0LchfQF2ut_",
        "colab_type": "code",
        "outputId": "db6334e9-dead-4c0b-e64e-cb24a34d39c7",
        "colab": {
          "base_uri": "https://localhost:8080/",
          "height": 122
        }
      },
      "source": [
        "# Allow saving files to google drive if ran on colab\n",
        "from google.colab import drive\n",
        "drive.mount('/content/gdrive')\n",
        "ROOT_DIRECTORY = '/content/gdrive/My Drive/Colab Notebooks/ELEC5307 Project1'"
      ],
      "execution_count": 0,
      "outputs": [
        {
          "output_type": "stream",
          "text": [
            "Go to this URL in a browser: https://accounts.google.com/o/oauth2/auth?client_id=947318989803-6bn6qk8qdgf4n4g3pfee6491hc0brc4i.apps.googleusercontent.com&redirect_uri=urn%3Aietf%3Awg%3Aoauth%3A2.0%3Aoob&scope=email%20https%3A%2F%2Fwww.googleapis.com%2Fauth%2Fdocs.test%20https%3A%2F%2Fwww.googleapis.com%2Fauth%2Fdrive%20https%3A%2F%2Fwww.googleapis.com%2Fauth%2Fdrive.photos.readonly%20https%3A%2F%2Fwww.googleapis.com%2Fauth%2Fpeopleapi.readonly&response_type=code\n",
            "\n",
            "Enter your authorization code:\n",
            "··········\n",
            "Mounted at /content/gdrive\n"
          ],
          "name": "stdout"
        }
      ]
    },
    {
      "cell_type": "markdown",
      "metadata": {
        "id": "KWNbVCSn3jHA",
        "colab_type": "text"
      },
      "source": [
        "# IMPORTS"
      ]
    },
    {
      "cell_type": "code",
      "metadata": {
        "id": "mB0P1mOh3b8Q",
        "colab_type": "code",
        "colab": {}
      },
      "source": [
        "# useful packages\n",
        "import torch\n",
        "import torchvision\n",
        "import torchvision.transforms as transforms\n",
        "from torch import nn\n",
        "\n",
        "import torch.nn.functional as F\n",
        "from torch.utils.data import SubsetRandomSampler\n",
        "import torch.optim as optim\n",
        "\n",
        "\n",
        "import numpy as np\n",
        "import math\n",
        "import random\n",
        "\n",
        "import matplotlib.pyplot as plt\n",
        "\n",
        "import os\n",
        "import pickle\n"
      ],
      "execution_count": 0,
      "outputs": []
    },
    {
      "cell_type": "markdown",
      "metadata": {
        "id": "x8jTLUHsPjul",
        "colab_type": "text"
      },
      "source": [
        "# HYPERPARAMETERS"
      ]
    },
    {
      "cell_type": "code",
      "metadata": {
        "id": "0jDXwpQePmkG",
        "colab_type": "code",
        "colab": {}
      },
      "source": [
        "LEARNING_RATE = 0.001\n",
        "BATCH_SIZE = 8\n",
        "EPOCHS = 16\n",
        "\n",
        "CROP_SIZE=24\n",
        "\n",
        "FIRST_LAYER_OUT_CHANNELS = 32"
      ],
      "execution_count": 0,
      "outputs": []
    },
    {
      "cell_type": "markdown",
      "metadata": {
        "id": "hDeDL3wW2_dv",
        "colab_type": "text"
      },
      "source": [
        "# CODE\n",
        "\n",
        "## 1st Influence: Data Transformation"
      ]
    },
    {
      "cell_type": "code",
      "metadata": {
        "id": "TavHZH483LYl",
        "colab_type": "code",
        "outputId": "f455e4bc-cf82-40d6-d581-95d524420a19",
        "colab": {
          "base_uri": "https://localhost:8080/",
          "height": 51
        }
      },
      "source": [
        "\"\"\"\n",
        "Modification of the transformations\n",
        "Choice          Parameters\n",
        "---------------------------\n",
        "Center Crop     size\n",
        "Five Crop       size\n",
        "Resize          size + interpolation\n",
        "\"\"\"\n",
        "train_transform_original = transforms.Compose(\n",
        "    [transforms.ToTensor(),\n",
        "     transforms.Normalize((0.5, 0.5, 0.5), (0.5, 0.5, 0.5))])\n",
        "\n",
        "train_transform_centercrop = transforms.Compose(\n",
        "    [# Cropping\n",
        "     transforms.CenterCrop(CROP_SIZE),\n",
        "     transforms.Resize(32),\n",
        "     transforms.ToTensor(),\n",
        "     transforms.Normalize((0.5, 0.5, 0.5), (0.5, 0.5, 0.5))])\n",
        "\n",
        "def handleFiveCrops(crops):\n",
        "    # original \n",
        "    # return torch.stack([ToTensor()(crop) for crop in crops])\n",
        "    tensor_stack = []\n",
        "    for crop in crops:\n",
        "      new_tensor = transforms.Compose([\n",
        "                                       transforms.Resize(32),\n",
        "                                       transforms.ToTensor(),\n",
        "                                       transforms.Normalize((0.5, 0.5, 0.5), (0.5, 0.5, 0.5))\n",
        "                                       ])(crop)\n",
        "      tensor_stack.append(new_tensor)\n",
        "    return torch.stack(tensor_stack)\n",
        "\n",
        "def randomFromFiveCrops(crops):\n",
        "    randomIndex = random.randint(0,len(crops)-1)\n",
        "    return crops[randomIndex]\n",
        "\n",
        "train_transform_fivecrop = transforms.Compose(\n",
        "    [# Cropping\n",
        "     transforms.FiveCrop(22),\n",
        "     # transforms.Lambda(lambda crops: torch.stack([transforms.ToTensor()(crop) for crop in crops])),\n",
        "     transforms.Lambda(lambda crops: handleFiveCrops(crops)),\n",
        "     ])\n",
        "\n",
        "train_transform_modified = transforms.RandomChoice([\n",
        "    transforms.Compose([\n",
        "                        transforms.ToTensor(),\n",
        "                        transforms.Normalize((0.5, 0.5, 0.5), (0.5, 0.5, 0.5))\n",
        "    ]),\n",
        "    transforms.Compose([\n",
        "                        transforms.FiveCrop(24), # What choice here?\n",
        "                        transforms.Lambda(lambda crops: randomFromFiveCrops(crops)),\n",
        "                        transforms.Resize(32),\n",
        "                        transforms.ToTensor(),\n",
        "                        transforms.Normalize((0.5, 0.5, 0.5), (0.5, 0.5, 0.5))\n",
        "    ]),                     \n",
        "  ])\n",
        "\n",
        "\n",
        "train_transform = train_transform_modified\n",
        "\n",
        "test_transform = transforms.ToTensor()\n",
        "\n",
        "trainset = torchvision.datasets.CIFAR10(root='./data', train=True,\n",
        "                                        download=True, transform=train_transform)\n",
        "\n",
        "trainloader = torch.utils.data.DataLoader(trainset, batch_size=4,\n",
        "                                          shuffle=True, num_workers=2)\n",
        "\n",
        "testset = torchvision.datasets.CIFAR10(root='./data', train=False,\n",
        "                                       download=True, transform=test_transform)\n",
        "testloader = torch.utils.data.DataLoader(testset, batch_size=4,\n",
        "                                         shuffle=False, num_workers=2)\n",
        "\n",
        "classes = ('plane', 'car', 'bird', 'cat',\n",
        "           'deer', 'dog', 'frog', 'horse', 'ship', 'truck')"
      ],
      "execution_count": 83,
      "outputs": [
        {
          "output_type": "stream",
          "text": [
            "Files already downloaded and verified\n",
            "Files already downloaded and verified\n"
          ],
          "name": "stdout"
        }
      ]
    },
    {
      "cell_type": "code",
      "metadata": {
        "id": "-9VkJ98h8qrW",
        "colab_type": "code",
        "colab": {
          "base_uri": "https://localhost:8080/",
          "height": 173
        },
        "outputId": "7040f472-63e6-4d2b-e62f-f88dc31e71b1"
      },
      "source": [
        "def showimg(tensor):\n",
        "    tensor = tensor / 2 + 0.5     # unnormalize, because normalization is (img - 0.5)/0.5 in transforms.Normalize\n",
        "    npimg = tensor.numpy()\n",
        "    plt.imshow(np.transpose(npimg, (1, 2, 0)))\n",
        "\n",
        "# Visualization of random training images\n",
        "dataiter = trainloader.__iter__()\n",
        "input, labels = dataiter.next()\n",
        "\n",
        "# ------\n",
        "# IF FIVE CROPS TOTAL\n",
        "# bs, ncrops, c, h, w = input.size()\n",
        "# input = input.view(-1, c, h, w) # fuse crops and bs\n",
        "# if include the five crop, how to handle the difference in shapes with at random?\n",
        "# Can just have a switch, if five crops, multiplies the bs by 5.\n",
        "# ------\n",
        "\n",
        "print(input.shape)\n",
        "# show images\n",
        "showimg(torchvision.utils.make_grid(input))\n",
        "\n",
        "# print labels\n",
        "print(' '.join('%5s' % classes[labels[j]] for j in range(4)))"
      ],
      "execution_count": 84,
      "outputs": [
        {
          "output_type": "stream",
          "text": [
            "torch.Size([4, 3, 32, 32])\n",
            "  dog truck  deer  deer\n"
          ],
          "name": "stdout"
        },
        {
          "output_type": "display_data",
          "data": {
            "image/png": "[encoded data removed]",
            "text/plain": [
              "<Figure size 432x288 with 1 Axes>"
            ]
          },
          "metadata": {
            "tags": []
          }
        }
      ]
    },
    {
      "cell_type": "markdown",
      "metadata": {
        "id": "LcOPhxwtQNJ8",
        "colab_type": "text"
      },
      "source": [
        "#### Generate the Test/Validation Split to monitor training"
      ]
    },
    {
      "cell_type": "code",
      "metadata": {
        "id": "VrK5UPiWQSXd",
        "colab_type": "code",
        "colab": {}
      },
      "source": [
        "VALIDATION_SET_SIZE = 2000\n",
        "\n",
        "indices = np.arange(len(trainset))\n",
        "np.random.shuffle(indices) # for shuffle = True\n",
        "split = len(trainset) - VALIDATION_SET_SIZE\n",
        "RECORD_EVERY = 2000\n",
        "\n",
        "\n",
        "validation_set_size = len(indices) - split\n",
        "\n",
        "train_sampler, validation_sampler = SubsetRandomSampler(indices[:split]), SubsetRandomSampler(indices[split:])"
      ],
      "execution_count": 0,
      "outputs": []
    },
    {
      "cell_type": "markdown",
      "metadata": {
        "id": "OdjijQep3xS4",
        "colab_type": "text"
      },
      "source": [
        "##2nd Influence: Network Structure"
      ]
    },
    {
      "cell_type": "code",
      "metadata": {
        "id": "VxNx7Rad32Ar",
        "colab_type": "code",
        "colab": {}
      },
      "source": [
        "class CNN(nn.Module):\n",
        "    def __init__(self):\n",
        "        super(CNN, self).__init__()\n",
        "        # define the network layers\n",
        "\n",
        "        # nn.Conv2d(input_channel, output_channel, filter_size,\n",
        "        #     stride=stride, padding=padding)\n",
        "        # By default, padding=0, stride=1\n",
        "        # CIFAR 10 is 32*32*3\n",
        "        # Pooling Method, Kernel size, dropout and activation method shall not be experimented with.\n",
        "\n",
        "        # .,3,32,32\n",
        "        self.conv1 = nn.Conv2d(3,32,5) \n",
        "        # .,32,28,28\n",
        "        self.pool1 = nn.MaxPool2d(2,2)\n",
        "        # .,32,14,14\n",
        "        self.conv2 = nn.Conv2d(32,64,5)\n",
        "        # .,64,10,10\n",
        "        self.pool2 = nn.MaxPool2d(2,2)\n",
        "        # .,64,5,5\n",
        "        self.conv3 = nn.Conv2d(64,128,5)\n",
        "        # .,128,1,1\n",
        "        self.pool3 = nn.MaxPool2d(2,2)\n",
        "        # .,128,1,1\n",
        "\n",
        "        self.fc1 = nn.Linear(128,80)\n",
        "        self.fc2 = nn.Linear(80,64)\n",
        "        self.fc3 = nn.Linear(64,10)\n",
        "\n",
        "    def forward(self, x):\n",
        "        # define the network structure\n",
        "        x = self.pool1(F.relu(self.conv1(x)))\n",
        "        x = self.pool2(F.relu(self.conv2(x)))\n",
        "        x = self.pool3(F.relu(self.conv3(x)))\n",
        "\n",
        "        # Reshape\n",
        "        x = x.view(-1,128)\n",
        "\n",
        "        x = F.relu(self.fc1(x))\n",
        "        x = F.relu(self.fc2(x))\n",
        "        x = self.fc3(x)\n",
        "\n",
        "        return x\n",
        "\n",
        "cnn = CNN()\n",
        "\n",
        "# test\n",
        "# REMINDER, shape of tensor: [BS, CH, HEIGHT, WIDTH]\n",
        "TEST_INPUT = False\n",
        "if TEST_INPUT:\n",
        "  input = torch.rand((1,3,32,32))\n",
        "  cnn(input)"
      ],
      "execution_count": 0,
      "outputs": []
    },
    {
      "cell_type": "markdown",
      "metadata": {
        "id": "wr_AMfs13tCw",
        "colab_type": "text"
      },
      "source": [
        "## 3rd Influence: Optimizer\n",
        "\n",
        "https://arxiv.org/pdf/1506.01186.pdf cyclical lr -> implementation"
      ]
    },
    {
      "cell_type": "code",
      "metadata": {
        "id": "WgrkB_c53Y-x",
        "colab_type": "code",
        "colab": {}
      },
      "source": [
        "criterion = nn.CrossEntropyLoss()\n",
        "optimizer = optim.SGD(cnn.parameters(), lr=0.001, momentum=0.9)\n",
        "\n",
        "# CLR\n",
        "def cyclical_learning_rate(min_lr, max_lr, stepsize, mode='triangular'):\n",
        "  if mode == 'triangular':\n",
        "    scaler = lambda x: 1\n",
        "  if mode == 'triangular2':\n",
        "    scaler = lambda x: (1/2)**(x-1)\n",
        "\n",
        "  lr_scheduler = lambda iteration: min_lr + (max_lr - min_lr)*eval(iteration, stepsize)\n",
        "\n",
        "# What about exp? Shown not to yield significantly better results, more complex to implement so didn't\n",
        "\n",
        "  def eval(iteration, stepsize):\n",
        "    cycle = math.floor(1+(iteration/stepsize))\n",
        "    x = abs(iteration/stepsize - 2*cycle +1)\n",
        "    return max(0,(1-x))*scaler(cycle)\n",
        "\n",
        "  return lr_scheduler\n",
        "\n",
        "# Stepsize is good when = (Nbr iterations / epoch) * 2 ~ 10. We choose 2 multiplier.\n",
        "stepsize = len(train_sampler) / BATCH_SIZE * 2\n",
        "lambdaCLR = cyclical_learning_rate(LEARNING_RATE, LEARNING_RATE * 6, stepsize)\n",
        "scheduler = optim.lr_scheduler.LambdaLR(optimizer, lambdaCLR)"
      ],
      "execution_count": 0,
      "outputs": []
    },
    {
      "cell_type": "markdown",
      "metadata": {
        "id": "ifI71NXikDfc",
        "colab_type": "text"
      },
      "source": [
        "# ===========\n",
        "\n",
        "#### Training "
      ]
    },
    {
      "cell_type": "code",
      "metadata": {
        "id": "JQcs6e4qAE02",
        "colab_type": "code",
        "colab": {}
      },
      "source": [
        "def serializeObject(obj, fileName):\n",
        "    with open(fileName, 'wb') as fileHandler:\n",
        "        pickle.dump(obj, fileHandler, protocol=pickle.HIGHEST_PROTOCOL)\n",
        "\n",
        "def train_network(ann, train_loader, validation_loader,\n",
        "                  optimizer, scheduler, criterion,\n",
        "                  batch_size=2, lr=0.0001, epoch=2,\n",
        "                  download=False, root_directory='',\n",
        "                  record_every=20):\n",
        "    \n",
        "    training_loss = []\n",
        "    validation_loss = []  \n",
        "\n",
        "    validation_set_size = len(validation_loader.sampler)\n",
        "\n",
        "    for e in range(epoch):\n",
        "        \n",
        "        running_loss = 0.\n",
        "        for i, data in enumerate(train_loader, 0):\n",
        "            inputs, labels = data\n",
        "            optimizer.zero_grad()\n",
        "            outputs = ann(inputs)\n",
        "            loss = criterion(outputs, labels)\n",
        "            loss.backward()\n",
        "            optimizer.step()\n",
        "            # Scheduler step as well!\n",
        "            scheduler.step()\n",
        "            running_loss += loss.item()\n",
        "            \n",
        "            if i % record_every == (record_every - 1):\n",
        "                print('[%d, %5d] loss: %.3f' %\n",
        "                      (e + 1, i + 1, running_loss / record_every))\n",
        "                # Training loss\n",
        "                training_loss.append(running_loss / record_every)\n",
        "                running_loss = 0.0\n",
        "            \n",
        "                # Validation loss\n",
        "                running_validation_loss = 0\n",
        "                for indices, data in enumerate(validation_loader, 0):\n",
        "                    inputs, labels = data\n",
        "                    outputs = ann(inputs)\n",
        "                    loss = criterion(outputs, labels)\n",
        "                    running_validation_loss += loss.item()\n",
        "                validation_loss.append(running_validation_loss / (validation_set_size/batch_size))\n",
        "    \n",
        "    \n",
        "    if download:\n",
        "        dir_name = '{0}/training_recording_part3/bs{1},lr{2},epoch{3}'.format(root_directory, batch_size, lr, epoch)\n",
        "        if not os.path.exists(dir_name):\n",
        "            os.makedirs(dir_name)\n",
        "        \n",
        "        # Save losses for eventual future use\n",
        "        serializeObject(training_loss, dir_name + '/training_loss.pickle')\n",
        "        serializeObject(validation_loss, dir_name + '/validation_loss.pickle')\n",
        "\n",
        "        # Save network weights for eventual future use\n",
        "        torch.save(ann.state_dict(), dir_name + '/network_weights.pickle')\n",
        "        \n",
        "        iterations = np.arange(len(training_loss))*record_every\n",
        "        plt.figure()\n",
        "        plt.title('Training and Validation Loss During Training')\n",
        "        plt.xlabel('Iterations')\n",
        "        plt.ylabel('Loss Value')\n",
        "        plt.plot(iterations, training_loss, '-', color='royalblue')\n",
        "        plt.plot(iterations, validation_loss, '-', color='tomato')\n",
        "        plt.legend(['Training', 'Validation'])\n",
        "        plt.savefig(dir_name + '/e{0},lr{1},bs{2}.png'.format(epoch, lr, batch_size), bbox_inches='tight')\n",
        "\n",
        "        \n",
        "    \n",
        "    return ann"
      ],
      "execution_count": 0,
      "outputs": []
    },
    {
      "cell_type": "markdown",
      "metadata": {
        "id": "QSAjsg3hlVzn",
        "colab_type": "text"
      },
      "source": [
        "#### Eval"
      ]
    },
    {
      "cell_type": "code",
      "metadata": {
        "id": "CVKLCfNtmtoR",
        "colab_type": "code",
        "colab": {}
      },
      "source": [
        "def eval_net(net, testloader):\n",
        "    correct = 0\n",
        "    total = 0\n",
        "    with torch.no_grad():\n",
        "        for data in testloader:\n",
        "            images, labels = data\n",
        "            outputs = net(images)\n",
        "            _, predicted = torch.max(outputs.data, 1)\n",
        "            total += labels.size(0)\n",
        "            correct += (predicted == labels).sum().item()\n",
        "    \n",
        "    # Own\n",
        "    accuracy = 100 * correct / total\n",
        "    \n",
        "    print('Accuracy of the network on the 10000 test images: %d %%' % (accuracy))\n",
        "    return accuracy"
      ],
      "execution_count": 0,
      "outputs": []
    },
    {
      "cell_type": "markdown",
      "metadata": {
        "id": "9h1bq1Solo-A",
        "colab_type": "text"
      },
      "source": [
        "#### Run"
      ]
    },
    {
      "cell_type": "code",
      "metadata": {
        "id": "j_td11kPlm77",
        "colab_type": "code",
        "colab": {
          "base_uri": "https://localhost:8080/",
          "height": 752
        },
        "outputId": "1c06c9b0-0032-4e33-a125-2c456e8a9d80"
      },
      "source": [
        "train_loader = torch.utils.data.DataLoader(trainset,\n",
        "                                           batch_size=BATCH_SIZE,\n",
        "                                           num_workers=2,\n",
        "                                           sampler=train_sampler\n",
        "                                          )\n",
        "validation_loader = torch.utils.data.DataLoader(trainset,\n",
        "                                                batch_size=BATCH_SIZE,\n",
        "                                                num_workers=2,\n",
        "                                                sampler=validation_sampler\n",
        "                                               )\n",
        "\n",
        "cnn = train_network(cnn, train_loader, validation_loader,\n",
        "                    optimizer, scheduler, criterion,\n",
        "                    batch_size=BATCH_SIZE, lr=LEARNING_RATE, epoch=EPOCHS,\n",
        "                    record_every=RECORD_EVERY)\n",
        "\n",
        "accuracy = eval_net(cnn, testloader)"
      ],
      "execution_count": 92,
      "outputs": [
        {
          "output_type": "stream",
          "text": [
            "[1,  2000] loss: 2.305\n"
          ],
          "name": "stdout"
        },
        {
          "output_type": "stream",
          "text": [
            "Traceback (most recent call last):\n",
            "Traceback (most recent call last):\n",
            "  File \"/usr/lib/python3.6/multiprocessing/queues.py\", line 240, in _feed\n",
            "    send_bytes(obj)\n",
            "  File \"/usr/lib/python3.6/multiprocessing/connection.py\", line 200, in send_bytes\n",
            "    self._send_bytes(m[offset:offset + size])\n",
            "  File \"/usr/lib/python3.6/multiprocessing/connection.py\", line 404, in _send_bytes\n",
            "    self._send(header + buf)\n",
            "  File \"/usr/lib/python3.6/multiprocessing/connection.py\", line 368, in _send\n",
            "    n = write(self._handle, buf)\n"
          ],
          "name": "stderr"
        },
        {
          "output_type": "error",
          "ename": "KeyboardInterrupt",
          "evalue": "ignored",
          "traceback": [
            "\u001b[0;31m---------------------------------------------------------------------------\u001b[0m",
            "\u001b[0;31mKeyboardInterrupt\u001b[0m                         Traceback (most recent call last)",
            "\u001b[0;32m<ipython-input-92-125da2ab07d8>\u001b[0m in \u001b[0;36m<module>\u001b[0;34m()\u001b[0m\n\u001b[1;32m     13\u001b[0m                     \u001b[0moptimizer\u001b[0m\u001b[0;34m,\u001b[0m \u001b[0mscheduler\u001b[0m\u001b[0;34m,\u001b[0m \u001b[0mcriterion\u001b[0m\u001b[0;34m,\u001b[0m\u001b[0;34m\u001b[0m\u001b[0;34m\u001b[0m\u001b[0m\n\u001b[1;32m     14\u001b[0m                     \u001b[0mbatch_size\u001b[0m\u001b[0;34m=\u001b[0m\u001b[0mBATCH_SIZE\u001b[0m\u001b[0;34m,\u001b[0m \u001b[0mlr\u001b[0m\u001b[0;34m=\u001b[0m\u001b[0mLEARNING_RATE\u001b[0m\u001b[0;34m,\u001b[0m \u001b[0mepoch\u001b[0m\u001b[0;34m=\u001b[0m\u001b[0mEPOCHS\u001b[0m\u001b[0;34m,\u001b[0m\u001b[0;34m\u001b[0m\u001b[0;34m\u001b[0m\u001b[0m\n\u001b[0;32m---> 15\u001b[0;31m                     record_every=RECORD_EVERY)\n\u001b[0m\u001b[1;32m     16\u001b[0m \u001b[0;34m\u001b[0m\u001b[0m\n\u001b[1;32m     17\u001b[0m \u001b[0maccuracy\u001b[0m \u001b[0;34m=\u001b[0m \u001b[0meval_net\u001b[0m\u001b[0;34m(\u001b[0m\u001b[0mcnn\u001b[0m\u001b[0;34m,\u001b[0m \u001b[0mtestloader\u001b[0m\u001b[0;34m)\u001b[0m\u001b[0;34m\u001b[0m\u001b[0;34m\u001b[0m\u001b[0m\n",
            "\u001b[0;32m<ipython-input-89-5a519f153095>\u001b[0m in \u001b[0;36mtrain_network\u001b[0;34m(ann, train_loader, validation_loader, optimizer, scheduler, criterion, batch_size, lr, epoch, download, root_directory, record_every)\u001b[0m\n\u001b[1;32m     22\u001b[0m             \u001b[0moutputs\u001b[0m \u001b[0;34m=\u001b[0m \u001b[0mann\u001b[0m\u001b[0;34m(\u001b[0m\u001b[0minputs\u001b[0m\u001b[0;34m)\u001b[0m\u001b[0;34m\u001b[0m\u001b[0;34m\u001b[0m\u001b[0m\n\u001b[1;32m     23\u001b[0m             \u001b[0mloss\u001b[0m \u001b[0;34m=\u001b[0m \u001b[0mcriterion\u001b[0m\u001b[0;34m(\u001b[0m\u001b[0moutputs\u001b[0m\u001b[0;34m,\u001b[0m \u001b[0mlabels\u001b[0m\u001b[0;34m)\u001b[0m\u001b[0;34m\u001b[0m\u001b[0;34m\u001b[0m\u001b[0m\n\u001b[0;32m---> 24\u001b[0;31m             \u001b[0mloss\u001b[0m\u001b[0;34m.\u001b[0m\u001b[0mbackward\u001b[0m\u001b[0;34m(\u001b[0m\u001b[0;34m)\u001b[0m\u001b[0;34m\u001b[0m\u001b[0;34m\u001b[0m\u001b[0m\n\u001b[0m\u001b[1;32m     25\u001b[0m             \u001b[0moptimizer\u001b[0m\u001b[0;34m.\u001b[0m\u001b[0mstep\u001b[0m\u001b[0;34m(\u001b[0m\u001b[0;34m)\u001b[0m\u001b[0;34m\u001b[0m\u001b[0;34m\u001b[0m\u001b[0m\n\u001b[1;32m     26\u001b[0m             \u001b[0;31m# Scheduler step as well!\u001b[0m\u001b[0;34m\u001b[0m\u001b[0;34m\u001b[0m\u001b[0;34m\u001b[0m\u001b[0m\n",
            "\u001b[0;32m/usr/local/lib/python3.6/dist-packages/torch/tensor.py\u001b[0m in \u001b[0;36mbackward\u001b[0;34m(self, gradient, retain_graph, create_graph)\u001b[0m\n\u001b[1;32m    105\u001b[0m                 \u001b[0mproducts\u001b[0m\u001b[0;34m.\u001b[0m \u001b[0mDefaults\u001b[0m \u001b[0mto\u001b[0m\u001b[0;31m \u001b[0m\u001b[0;31m`\u001b[0m\u001b[0;31m`\u001b[0m\u001b[0;32mFalse\u001b[0m\u001b[0;31m`\u001b[0m\u001b[0;31m`\u001b[0m\u001b[0;34m.\u001b[0m\u001b[0;34m\u001b[0m\u001b[0;34m\u001b[0m\u001b[0m\n\u001b[1;32m    106\u001b[0m         \"\"\"\n\u001b[0;32m--> 107\u001b[0;31m         \u001b[0mtorch\u001b[0m\u001b[0;34m.\u001b[0m\u001b[0mautograd\u001b[0m\u001b[0;34m.\u001b[0m\u001b[0mbackward\u001b[0m\u001b[0;34m(\u001b[0m\u001b[0mself\u001b[0m\u001b[0;34m,\u001b[0m \u001b[0mgradient\u001b[0m\u001b[0;34m,\u001b[0m \u001b[0mretain_graph\u001b[0m\u001b[0;34m,\u001b[0m \u001b[0mcreate_graph\u001b[0m\u001b[0;34m)\u001b[0m\u001b[0;34m\u001b[0m\u001b[0;34m\u001b[0m\u001b[0m\n\u001b[0m\u001b[1;32m    108\u001b[0m \u001b[0;34m\u001b[0m\u001b[0m\n\u001b[1;32m    109\u001b[0m     \u001b[0;32mdef\u001b[0m \u001b[0mregister_hook\u001b[0m\u001b[0;34m(\u001b[0m\u001b[0mself\u001b[0m\u001b[0;34m,\u001b[0m \u001b[0mhook\u001b[0m\u001b[0;34m)\u001b[0m\u001b[0;34m:\u001b[0m\u001b[0;34m\u001b[0m\u001b[0;34m\u001b[0m\u001b[0m\n",
            "\u001b[0;32m/usr/local/lib/python3.6/dist-packages/torch/autograd/__init__.py\u001b[0m in \u001b[0;36mbackward\u001b[0;34m(tensors, grad_tensors, retain_graph, create_graph, grad_variables)\u001b[0m\n\u001b[1;32m     91\u001b[0m     Variable._execution_engine.run_backward(\n\u001b[1;32m     92\u001b[0m         \u001b[0mtensors\u001b[0m\u001b[0;34m,\u001b[0m \u001b[0mgrad_tensors\u001b[0m\u001b[0;34m,\u001b[0m \u001b[0mretain_graph\u001b[0m\u001b[0;34m,\u001b[0m \u001b[0mcreate_graph\u001b[0m\u001b[0;34m,\u001b[0m\u001b[0;34m\u001b[0m\u001b[0;34m\u001b[0m\u001b[0m\n\u001b[0;32m---> 93\u001b[0;31m         allow_unreachable=True)  # allow_unreachable flag\n\u001b[0m\u001b[1;32m     94\u001b[0m \u001b[0;34m\u001b[0m\u001b[0m\n\u001b[1;32m     95\u001b[0m \u001b[0;34m\u001b[0m\u001b[0m\n",
            "\u001b[0;31mKeyboardInterrupt\u001b[0m: "
          ]
        },
        {
          "output_type": "stream",
          "text": [
            "BrokenPipeError: [Errno 32] Broken pipe\n",
            "  File \"/usr/lib/python3.6/multiprocessing/queues.py\", line 240, in _feed\n",
            "    send_bytes(obj)\n",
            "  File \"/usr/lib/python3.6/multiprocessing/connection.py\", line 200, in send_bytes\n",
            "    self._send_bytes(m[offset:offset + size])\n",
            "  File \"/usr/lib/python3.6/multiprocessing/connection.py\", line 404, in _send_bytes\n",
            "    self._send(header + buf)\n",
            "  File \"/usr/lib/python3.6/multiprocessing/connection.py\", line 368, in _send\n",
            "    n = write(self._handle, buf)\n",
            "BrokenPipeError: [Errno 32] Broken pipe\n"
          ],
          "name": "stderr"
        }
      ]
    },
    {
      "cell_type": "code",
      "metadata": {
        "id": "E_i0k7Wjnch0",
        "colab_type": "code",
        "colab": {}
      },
      "source": [
        ""
      ],
      "execution_count": 0,
      "outputs": []
    }
  ]
}