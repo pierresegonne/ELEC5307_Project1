{
  "nbformat": 4,
  "nbformat_minor": 0,
  "metadata": {
    "colab": {
      "name": "project1_part3.ipynb",
      "provenance": [],
      "collapsed_sections": [],
      "include_colab_link": true
    },
    "kernelspec": {
      "name": "python3",
      "display_name": "Python 3"
    }
  },
  "cells": [
    {
      "cell_type": "markdown",
      "metadata": {
        "id": "view-in-github",
        "colab_type": "text"
      },
      "source": [
        "<a href=\"https://colab.research.google.com/github/pierresegonne/ELEC5307_Project1/blob/master/project1_part3.ipynb\" target=\"_parent\"><img src=\"https://colab.research.google.com/assets/colab-badge.svg\" alt=\"Open In Colab\"/></a>"
      ]
    },
    {
      "cell_type": "markdown",
      "metadata": {
        "id": "3t0iPF873e03",
        "colab_type": "text"
      },
      "source": [
        "# UTILS"
      ]
    },
    {
      "cell_type": "code",
      "metadata": {
        "id": "hF87HZRn1UFF",
        "colab_type": "code",
        "outputId": "ca71ae53-c01d-4174-a9e1-b7379b843318",
        "colab": {
          "base_uri": "https://localhost:8080/",
          "height": 326
        }
      },
      "source": [
        "# Install pytorch\n",
        "\n",
        "from os import path\n",
        "from wheel.pep425tags import get_abbr_impl, get_impl_ver, get_abi_tag\n",
        "platform = '{}{}-{}'.format(get_abbr_impl(), get_impl_ver(), get_abi_tag())\n",
        "\n",
        "accelerator = 'cu80' if path.exists('/opt/bin/nvidia-smi') else 'cpu'\n",
        "print('Accelerator: ', accelerator)\n",
        "\n",
        "print('Installing Torch') \n",
        "!pip install -q http://download.pytorch.org/whl/{accelerator}/torch-1.0.0-{platform}-linux_x86_64.whl\n",
        "# Issue with torchvision version\n",
        "!pip install torchvision==0.2.1\n",
        "import torch\n",
        "import torchvision"
      ],
      "execution_count": 0,
      "outputs": [
        {
          "output_type": "stream",
          "text": [
            "Accelerator:  cpu\n",
            "Installing Torch\n",
            "\u001b[K     |████████████████████████████████| 69.4MB 50.8MB/s \n",
            "\u001b[31mERROR: torchvision 0.3.0 has requirement torch>=1.1.0, but you'll have torch 1.0.0 which is incompatible.\u001b[0m\n",
            "\u001b[?25hCollecting torchvision==0.2.1\n",
            "\u001b[?25l  Downloading https://files.pythonhosted.org/packages/ca/0d/f00b2885711e08bd71242ebe7b96561e6f6d01fdb4b9dcf4d37e2e13c5e1/torchvision-0.2.1-py2.py3-none-any.whl (54kB)\n",
            "\u001b[K     |████████████████████████████████| 61kB 4.2MB/s \n",
            "\u001b[?25hRequirement already satisfied: torch in /usr/local/lib/python3.6/dist-packages (from torchvision==0.2.1) (1.0.0)\n",
            "Requirement already satisfied: six in /usr/local/lib/python3.6/dist-packages (from torchvision==0.2.1) (1.12.0)\n",
            "Requirement already satisfied: numpy in /usr/local/lib/python3.6/dist-packages (from torchvision==0.2.1) (1.16.5)\n",
            "Requirement already satisfied: pillow>=4.1.1 in /usr/local/lib/python3.6/dist-packages (from torchvision==0.2.1) (4.3.0)\n",
            "Requirement already satisfied: olefile in /usr/local/lib/python3.6/dist-packages (from pillow>=4.1.1->torchvision==0.2.1) (0.46)\n",
            "Installing collected packages: torchvision\n",
            "  Found existing installation: torchvision 0.3.0\n",
            "    Uninstalling torchvision-0.3.0:\n",
            "      Successfully uninstalled torchvision-0.3.0\n",
            "Successfully installed torchvision-0.2.1\n"
          ],
          "name": "stdout"
        }
      ]
    },
    {
      "cell_type": "code",
      "metadata": {
        "id": "2ELd4etA2pLA",
        "colab_type": "code",
        "colab": {}
      },
      "source": [
        "ROOT_DIRECTORY = '.'"
      ],
      "execution_count": 0,
      "outputs": []
    },
    {
      "cell_type": "code",
      "metadata": {
        "id": "P0LchfQF2ut_",
        "colab_type": "code",
        "outputId": "db6334e9-dead-4c0b-e64e-cb24a34d39c7",
        "colab": {
          "base_uri": "https://localhost:8080/",
          "height": 122
        }
      },
      "source": [
        "# Allow saving files to google drive if ran on colab\n",
        "from google.colab import drive\n",
        "drive.mount('/content/gdrive')\n",
        "ROOT_DIRECTORY = '/content/gdrive/My Drive/Colab Notebooks/ELEC5307 Project1'"
      ],
      "execution_count": 0,
      "outputs": [
        {
          "output_type": "stream",
          "text": [
            "Go to this URL in a browser: https://accounts.google.com/o/oauth2/auth?client_id=947318989803-6bn6qk8qdgf4n4g3pfee6491hc0brc4i.apps.googleusercontent.com&redirect_uri=urn%3Aietf%3Awg%3Aoauth%3A2.0%3Aoob&scope=email%20https%3A%2F%2Fwww.googleapis.com%2Fauth%2Fdocs.test%20https%3A%2F%2Fwww.googleapis.com%2Fauth%2Fdrive%20https%3A%2F%2Fwww.googleapis.com%2Fauth%2Fdrive.photos.readonly%20https%3A%2F%2Fwww.googleapis.com%2Fauth%2Fpeopleapi.readonly&response_type=code\n",
            "\n",
            "Enter your authorization code:\n",
            "··········\n",
            "Mounted at /content/gdrive\n"
          ],
          "name": "stdout"
        }
      ]
    },
    {
      "cell_type": "markdown",
      "metadata": {
        "id": "KWNbVCSn3jHA",
        "colab_type": "text"
      },
      "source": [
        "# IMPORTS"
      ]
    },
    {
      "cell_type": "code",
      "metadata": {
        "id": "mB0P1mOh3b8Q",
        "colab_type": "code",
        "colab": {}
      },
      "source": [
        "# useful packages\n",
        "import torch\n",
        "import torchvision\n",
        "import torchvision.transforms as transforms\n",
        "from torch import nn\n",
        "\n",
        "# OWN \n",
        "import numpy as np\n",
        "import math\n",
        "import matplotlib.pyplot as plt\n"
      ],
      "execution_count": 0,
      "outputs": []
    },
    {
      "cell_type": "markdown",
      "metadata": {
        "id": "hDeDL3wW2_dv",
        "colab_type": "text"
      },
      "source": [
        "# CODE\n",
        "\n",
        "## 1st Influence: Data Transformation"
      ]
    },
    {
      "cell_type": "code",
      "metadata": {
        "id": "TavHZH483LYl",
        "colab_type": "code",
        "outputId": "917da8e6-9392-42eb-d541-29fecd4bc776",
        "colab": {
          "base_uri": "https://localhost:8080/",
          "height": 51
        }
      },
      "source": [
        "\"\"\"\n",
        "Modification of the transformations\n",
        "Choice          Parameters\n",
        "---------------------------\n",
        "Center Crop     size\n",
        "Five Crop       size\n",
        "Resize          size + interpolation\n",
        "\"\"\"\n",
        "train_transform_original = transforms.Compose(\n",
        "    [transforms.ToTensor(),\n",
        "     transforms.Normalize((0.5, 0.5, 0.5), (0.5, 0.5, 0.5))])\n",
        "\n",
        "train_transform_centercrop = transforms.Compose(\n",
        "    [# Cropping\n",
        "     transforms.CenterCrop(22),\n",
        "     transforms.Resize(32),\n",
        "     transforms.ToTensor(),\n",
        "     transforms.Normalize((0.5, 0.5, 0.5), (0.5, 0.5, 0.5))])\n",
        "\n",
        "def infocrop(crops):\n",
        "    print(crops)\n",
        "    return crops\n",
        "\n",
        "def infocrop2(crops):\n",
        "    print(crops.shape)\n",
        "    return crops\n",
        "\n",
        "def handleFiveCrops(crops):\n",
        "    # original \n",
        "    # return torch.stack([ToTensor()(crop) for crop in crops])\n",
        "    tensor_stack = []\n",
        "    for crop in crops:\n",
        "      new_tensor = transforms.Compose([\n",
        "                                       transforms.Resize(32),\n",
        "                                       transforms.ToTensor(),\n",
        "                                       transforms.Normalize((0.5, 0.5, 0.5), (0.5, 0.5, 0.5))\n",
        "                                       ])(crop)\n",
        "      tensor_stack.append(new_tensor)\n",
        "    return torch.stack(tensor_stack)\n",
        "\n",
        "train_transform_fivecrop = transforms.Compose(\n",
        "    [# Cropping\n",
        "     transforms.FiveCrop(22),\n",
        "     # transforms.Lambda(lambda crops: torch.stack([transforms.ToTensor()(crop) for crop in crops])),\n",
        "     transforms.Lambda(lambda crops: handleFiveCrops(crops)),\n",
        "     ])\n",
        "\n",
        "\n",
        "train_transform = train_transform_fivecrop\n",
        "\n",
        "test_transform = transforms.ToTensor()\n",
        "\n",
        "trainset = torchvision.datasets.CIFAR10(root='./data', train=True,\n",
        "                                        download=True, transform=train_transform)\n",
        "\n",
        "trainloader = torch.utils.data.DataLoader(trainset, batch_size=4,\n",
        "                                          shuffle=True, num_workers=2)\n",
        "\n",
        "testset = torchvision.datasets.CIFAR10(root='./data', train=False,\n",
        "                                       download=True, transform=test_transform)\n",
        "testloader = torch.utils.data.DataLoader(testset, batch_size=4,\n",
        "                                         shuffle=False, num_workers=2)\n",
        "\n",
        "classes = ('plane', 'car', 'bird', 'cat',\n",
        "           'deer', 'dog', 'frog', 'horse', 'ship', 'truck')"
      ],
      "execution_count": 33,
      "outputs": [
        {
          "output_type": "stream",
          "text": [
            "Files already downloaded and verified\n",
            "Files already downloaded and verified\n"
          ],
          "name": "stdout"
        }
      ]
    },
    {
      "cell_type": "code",
      "metadata": {
        "id": "-9VkJ98h8qrW",
        "colab_type": "code",
        "colab": {
          "base_uri": "https://localhost:8080/",
          "height": 212
        },
        "outputId": "6b7e440d-6013-48bf-ec13-21131d568136"
      },
      "source": [
        "def showimg(tensor):\n",
        "    tensor = tensor / 2 + 0.5     # unnormalize, because normalization is (img - 0.5)/0.5 in transforms.Normalize\n",
        "    npimg = tensor.numpy()\n",
        "    plt.imshow(np.transpose(npimg, (1, 2, 0)))\n",
        "\n",
        "# Visualization of random training images\n",
        "dataiter = trainloader.__iter__()\n",
        "input, labels = dataiter.next()\n",
        "\n",
        "bs, ncrops, c, h, w = input.size()\n",
        "input = input.view(-1, c, h, w) # fuse crops and bs\n",
        "print(input.shape)\n",
        "# show images\n",
        "showimg(torchvision.utils.make_grid(input))\n",
        "\n",
        "# print labels\n",
        "print(' '.join('%5s' % classes[labels[j]] for j in range(4)))"
      ],
      "execution_count": 34,
      "outputs": [
        {
          "output_type": "stream",
          "text": [
            "torch.Size([20, 3, 32, 32])\n",
            "plane   dog horse  frog\n"
          ],
          "name": "stdout"
        },
        {
          "output_type": "display_data",
          "data": {
            "image/png": "[encoded data removed]",
            "text/plain": [
              "<Figure size 432x288 with 1 Axes>"
            ]
          },
          "metadata": {
            "tags": []
          }
        }
      ]
    },
    {
      "cell_type": "markdown",
      "metadata": {
        "id": "OdjijQep3xS4",
        "colab_type": "text"
      },
      "source": [
        "##2nd Influence: Network Structure"
      ]
    },
    {
      "cell_type": "code",
      "metadata": {
        "id": "VxNx7Rad32Ar",
        "colab_type": "code",
        "outputId": "5d420317-d59e-48d5-dd64-d381f8ff2f3b",
        "colab": {
          "base_uri": "https://localhost:8080/",
          "height": 51
        }
      },
      "source": [
        "import torch.nn.functional as F\n",
        "\n",
        "class CNN(nn.Module):\n",
        "    def __init__(self):\n",
        "        super(CNN, self).__init__()\n",
        "        # define the network layers\n",
        "\n",
        "        # nn.Conv2d(input_channel, output_channel, filter_size,\n",
        "        #     stride=stride, padding=padding)\n",
        "        # By default, padding=0, stride=1\n",
        "        # CIFAR 10 is 32*32*3\n",
        "        # Pooling Method, Kernel size, dropout and activation method shall not be experimented with.\n",
        "\n",
        "        # .,3,32,32\n",
        "        self.conv1 = nn.Conv2d(3,32,5) \n",
        "        # .,32,28,28\n",
        "        self.pool1 = nn.MaxPool2d(2,2)\n",
        "        # .,32,14,14\n",
        "        self.conv2 = nn.Conv2d(32,64,5)\n",
        "        # .,64,10,10\n",
        "        self.pool2 = nn.MaxPool2d(2,2)\n",
        "        # .,64,5,5\n",
        "        self.conv3 = nn.Conv2d(64,128,5)\n",
        "        # .,128,1,1\n",
        "        self.pool3 = nn.MaxPool2d(2,2)\n",
        "        # .,128,1,1\n",
        "\n",
        "        self.fc1 = nn.Linear(128,80)\n",
        "        self.fc2 = nn.Linear(80,64)\n",
        "        self.fc3 = nn.Linear(64,10)\n",
        "\n",
        "    def forward(self, x):\n",
        "        # define the network structure\n",
        "        x = self.pool1(F.relu(self.conv1(x)))\n",
        "        x = self.pool2(F.relu(self.conv2(x)))\n",
        "        x = self.pool3(F.relu(self.conv3(x)))\n",
        "\n",
        "        # Reshape\n",
        "        x = x.view(-1,128)\n",
        "\n",
        "        x = F.relu(self.fc1(x))\n",
        "        x = F.relu(self.fc2(x))\n",
        "        x = self.fc3(x)\n",
        "\n",
        "        return x\n",
        "\n",
        "cnn = CNN()\n",
        "\n",
        "# test\n",
        "# REMINDER, shape of tensor: [BS, CH, HEIGHT, WIDTH]\n",
        "input = torch.rand((1,3,32,32))\n",
        "cnn(input)"
      ],
      "execution_count": 0,
      "outputs": [
        {
          "output_type": "execute_result",
          "data": {
            "text/plain": [
              "tensor([[-0.0137,  0.1034,  0.0817, -0.0291,  0.0973,  0.1218, -0.0430,  0.0280,\n",
              "          0.0175,  0.1489]], grad_fn=<AddmmBackward>)"
            ]
          },
          "metadata": {
            "tags": []
          },
          "execution_count": 21
        }
      ]
    },
    {
      "cell_type": "markdown",
      "metadata": {
        "id": "wr_AMfs13tCw",
        "colab_type": "text"
      },
      "source": [
        "## 3rd Influence: Optimizer\n",
        "\n",
        "https://arxiv.org/pdf/1506.01186.pdf cyclical lr -> implementation"
      ]
    },
    {
      "cell_type": "code",
      "metadata": {
        "id": "WgrkB_c53Y-x",
        "colab_type": "code",
        "colab": {
          "base_uri": "https://localhost:8080/",
          "height": 232
        },
        "outputId": "c832ab03-8115-4d5d-b937-c5544567d614"
      },
      "source": [
        "import torch.optim as optim\n",
        "\n",
        "criterion = nn.CrossEntropyLoss()\n",
        "optimizer = optim.SGD(cnn.parameters(), lr=0.001, momentum=0.9)\n",
        "\n",
        "def cyclical_learning_rate(min_lr, max_lr, stepsize, mode='triangular'):\n",
        "  cycle = math.floor(1+(iteration/2*stepsize))\n",
        "  if mode == 'triangular':\n",
        "    scaler = lambda x: 1\n",
        "  if mode == 'triangular2':\n",
        "    scaler = lambda x: (1/2)**(x-1)\n",
        "\n",
        "  lr_scheduler = lambda iteration: min_lr + (max_lr - min_lr)*eval(iteration, stepsize)\n",
        "\n",
        "# What about exp? Shown not to yield significantly better results, more complex to implement so didn't\n",
        "\n",
        "  def eval(iteration, stepsize):\n",
        "    cycle = math.floor(1+(iteration/stepsize))\n",
        "    x = abs(iteration/stepsize - 2*cycle +1)\n",
        "    return max(0,(1-x))*scaler(cycle)\n",
        "\n",
        "  return lr_scheduler\n",
        "\n",
        "\n",
        "# baseline\n",
        "lambdaCLR = lambda iteration : iteration\n",
        "# CLR\n",
        "lambdaCLR = cyclical_learning_rate(0.001, 0.006, (tr_set_size/bs * 4))\n",
        "scheduler = optim.lr_scheduler.LambdaLR(optimizer, lambdaCLR)"
      ],
      "execution_count": 5,
      "outputs": [
        {
          "output_type": "error",
          "ename": "NameError",
          "evalue": "ignored",
          "traceback": [
            "\u001b[0;31m---------------------------------------------------------------------------\u001b[0m",
            "\u001b[0;31mNameError\u001b[0m                                 Traceback (most recent call last)",
            "\u001b[0;32m<ipython-input-5-4286690913c2>\u001b[0m in \u001b[0;36m<module>\u001b[0;34m()\u001b[0m\n\u001b[1;32m      2\u001b[0m \u001b[0;34m\u001b[0m\u001b[0m\n\u001b[1;32m      3\u001b[0m \u001b[0mcriterion\u001b[0m \u001b[0;34m=\u001b[0m \u001b[0mnn\u001b[0m\u001b[0;34m.\u001b[0m\u001b[0mCrossEntropyLoss\u001b[0m\u001b[0;34m(\u001b[0m\u001b[0;34m)\u001b[0m\u001b[0;34m\u001b[0m\u001b[0;34m\u001b[0m\u001b[0m\n\u001b[0;32m----> 4\u001b[0;31m \u001b[0moptimizer\u001b[0m \u001b[0;34m=\u001b[0m \u001b[0moptim\u001b[0m\u001b[0;34m.\u001b[0m\u001b[0mSGD\u001b[0m\u001b[0;34m(\u001b[0m\u001b[0mcnn\u001b[0m\u001b[0;34m.\u001b[0m\u001b[0mparameters\u001b[0m\u001b[0;34m(\u001b[0m\u001b[0;34m)\u001b[0m\u001b[0;34m,\u001b[0m \u001b[0mlr\u001b[0m\u001b[0;34m=\u001b[0m\u001b[0;36m0.001\u001b[0m\u001b[0;34m,\u001b[0m \u001b[0mmomentum\u001b[0m\u001b[0;34m=\u001b[0m\u001b[0;36m0.9\u001b[0m\u001b[0;34m)\u001b[0m\u001b[0;34m\u001b[0m\u001b[0;34m\u001b[0m\u001b[0m\n\u001b[0m\u001b[1;32m      5\u001b[0m \u001b[0;34m\u001b[0m\u001b[0m\n\u001b[1;32m      6\u001b[0m \u001b[0;32mdef\u001b[0m \u001b[0mcyclical_learning_rate\u001b[0m\u001b[0;34m(\u001b[0m\u001b[0mmin_lr\u001b[0m\u001b[0;34m,\u001b[0m \u001b[0mmax_lr\u001b[0m\u001b[0;34m,\u001b[0m \u001b[0mstepsize\u001b[0m\u001b[0;34m,\u001b[0m \u001b[0mmode\u001b[0m\u001b[0;34m=\u001b[0m\u001b[0;34m'triangular'\u001b[0m\u001b[0;34m)\u001b[0m\u001b[0;34m:\u001b[0m\u001b[0;34m\u001b[0m\u001b[0;34m\u001b[0m\u001b[0m\n",
            "\u001b[0;31mNameError\u001b[0m: name 'cnn' is not defined"
          ]
        }
      ]
    },
    {
      "cell_type": "code",
      "metadata": {
        "id": "JQcs6e4qAE02",
        "colab_type": "code",
        "outputId": "6228ebed-e32f-4d98-c314-af48c85068bf",
        "colab": {
          "base_uri": "https://localhost:8080/",
          "height": 34
        }
      },
      "source": [
        "abs(23 / 10 - 2 * 3 + 1)"
      ],
      "execution_count": 4,
      "outputs": [
        {
          "output_type": "execute_result",
          "data": {
            "text/plain": [
              "2.7"
            ]
          },
          "metadata": {
            "tags": []
          },
          "execution_count": 4
        }
      ]
    },
    {
      "cell_type": "code",
      "metadata": {
        "id": "CVKLCfNtmtoR",
        "colab_type": "code",
        "colab": {}
      },
      "source": [
        ""
      ],
      "execution_count": 0,
      "outputs": []
    }
  ]
}